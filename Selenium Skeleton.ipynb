{
 "cells": [
  {
   "cell_type": "markdown",
   "metadata": {},
   "source": [
    "# Web Scraping"
   ]
  },
  {
   "cell_type": "markdown",
   "metadata": {},
   "source": [
    "### Introduction\n",
    "\n",
    "The web is full of great datasets, but not all of them are readily available for download and analysis.\n",
    "Today we'll take a look at how you can surf the web robotically, saving the relevant information into storage containers as you go!\n",
    "\n",
    "We'll be taking a look at a few packages:\n",
    "* Beautiful Soup\n",
    "* re\n",
    "* Pandas\n",
    "\n",
    "Our general approach will be:\n",
    "* pick a domain/set of web pages to scrape\n",
    "* investigate those web pages using the developers tools from your web browser (such as Chrome or Firefox)\n",
    "* write rules to select the relevant objects from the DOM\n",
    "* parse information from those objects and store it in a container"
   ]
  },
  {
   "cell_type": "code",
   "execution_count": 2,
   "metadata": {},
   "outputs": [],
   "source": [
    "from bs4 import BeautifulSoup\n",
    "import requests\n",
    "import selenium\n",
    "import re\n",
    "import pandas as pd"
   ]
  },
  {
   "cell_type": "markdown",
   "metadata": {},
   "source": [
    "### Web Page Introduction: **The DOM**"
   ]
  },
  {
   "cell_type": "markdown",
   "metadata": {},
   "source": [
    "Before we start scraping, having a little background about how web pages are formatted is very helpful.\n",
    "\n",
    "\"The Document Object Model (DOM) is a programming interface for HTML and XML documents. It represents the page so that programs can change the document structure, style, and content. The DOM represents the document as nodes and objects. That way, programming languages can connect to the page.\"\n",
    "\n",
    "https://developer.mozilla.org/en-US/docs/Web/API/Document_Object_Model/Introduction"
   ]
  },
  {
   "cell_type": "markdown",
   "metadata": {},
   "source": [
    "### An example webpage"
   ]
  },
  {
   "cell_type": "code",
   "execution_count": null,
   "metadata": {},
   "outputs": [],
   "source": [
    "#How complex or simple should this be? Is this lesson going to be overwhelming?"
   ]
  },
  {
   "cell_type": "markdown",
   "metadata": {},
   "source": [
    "### Grabbing a Web Page"
   ]
  },
  {
   "cell_type": "code",
   "execution_count": 3,
   "metadata": {},
   "outputs": [],
   "source": [
    "html_page = requests.get('https://www.azlyrics.com/') #Make a get request to retrieve the page\n",
    "soup = BeautifulSoup(html_page.content, 'html.parser') #Pass the page contents to beautiful soup for parsing"
   ]
  },
  {
   "cell_type": "code",
   "execution_count": 4,
   "metadata": {},
   "outputs": [
    {
     "data": {
      "text/plain": [
       "'<!DOCTYPE html>\\n<html lang=\"en\">\\n <head>\\n  <meta charset=\"utf-8\"/>\\n  <meta content=\"IE=edge\" http-equiv=\"X-UA-Compatible\"/>\\n  <meta content=\"width=device-width, initial-scale=1\" name=\"viewport\"/>\\n  <meta content=\"noarchive\" name=\"robots\"/>\\n  <meta content=\"AZLyrics\" name=\"name\"/>\\n  <meta content=\"lyrics,music,song lyrics,songs,paroles\" name=\"keywords\"/>\\n  <base href=\"//www.azlyrics.com\"/>\\n  <script src=\"//www.azlyrics.com/external.js\" type=\"text/javascript\">\\n  </script>\\n  <title>\\n   AZLyrics - Song Lyrics from A to Z\\n  </title>\\n  <link href=\"https://maxcdn.bootstrapcdn.com/bootstrap/3.3.4/css/bootstrap.min.css\" rel=\"stylesheet\"/>\\n  <link href=\"//www.azlyrics.com/bsaz.css\" rel=\"stylesheet\"/>\\n  <!-- HTML5 shim and Respond.js for IE8 support of HTML5 elements and media queries -->\\n  <!--[if lt IE 9]>\\r\\n      <script src=\"https://oss.maxcdn.com/html5shiv/3.7.2/html5shiv.min.js\"></script>\\r\\n      <script src=\"https://oss.maxcdn.com/respond/1.4.2/respond.min.js\"></script>\\r\\n    <![endif]-->\\n  <'"
      ]
     },
     "execution_count": 4,
     "metadata": {},
     "output_type": "execute_result"
    }
   ],
   "source": [
    "#Preview the soup....MMMMMM SOUP :)\n",
    "soup.prettify()[:1000]"
   ]
  },
  {
   "cell_type": "code",
   "execution_count": 7,
   "metadata": {},
   "outputs": [
    {
     "data": {
      "text/plain": [
       "[<a class=\"btn btn-menu\" href=\"//www.azlyrics.com/y.html\">Y</a>,\n",
       " <a class=\"btn btn-menu\" href=\"//www.azlyrics.com/z.html\">Z</a>,\n",
       " <a class=\"btn btn-menu\" href=\"//www.azlyrics.com/19.html\">#</a>,\n",
       " <a href=\"/d/dancegavindance.html#56023\"><img alt=\"\" src=\"/hot/56023.jpg\"/></a>,\n",
       " <a href=\"/d/dancegavindance.html#56023\">Dance Gavin Dance</a>,\n",
       " <a href=\"/d/davematthewsband.html#56994\"><img alt=\"\" src=\"/hot/56994.jpg\"/></a>,\n",
       " <a href=\"/d/davematthewsband.html#56994\">Dave Matthews Band</a>,\n",
       " <a href=\"/b/bentley.html#52994\"><img alt=\"\" src=\"/hot/52994.jpg\"/></a>,\n",
       " <a href=\"/b/bentley.html#52994\">Dierks Bentley</a>,\n",
       " <a href=\"/l/lilyallen.html#55106\"><img alt=\"\" src=\"/hot/55106.jpg\"/></a>]"
      ]
     },
     "execution_count": 7,
     "metadata": {},
     "output_type": "execute_result"
    }
   ],
   "source": [
    "#Get all the hyperlinks on a page\n",
    "links = soup.findAll('a')\n",
    "links[25:35]"
   ]
  },
  {
   "cell_type": "markdown",
   "metadata": {},
   "source": [
    "Lets pull one of the link pages and see what we can get!\n",
    "Notice that these are relative links that all refer to pages and subdirectories within the azlyrics domain.\n",
    "We'll have to be sure to account for this when pulling successive pages."
   ]
  },
  {
   "cell_type": "code",
   "execution_count": 13,
   "metadata": {},
   "outputs": [
    {
     "data": {
      "text/plain": [
       "'<!DOCTYPE html>\\n<html lang=\"en\">\\n <head>\\n  <meta charset=\"utf-8\"/>\\n  <meta content=\"IE=edge\" http-equiv=\"X-UA-Compatible\"/>\\n  <meta content=\"width=device-width, initial-scale=1\" name=\"viewport\"/>\\n  <!-- The above 3 meta tags *must* come first in the head; any other head content must come *after* these tags -->\\n  <meta content=\\'Lily Allen lyrics - 82 song lyrics sorted by album, including \"Your Choice\", \"Come On Then\", \"Everything To Feel Something\".\\' name=\"description\"/>\\n  <meta content=\"Lily Allen, Lily Allen lyrics, discography, albums, songs\" name=\"keywords\"/>\\n  <meta content=\"noarchive\" name=\"robots\"/>\\n  <title>\\n   Lily Allen Lyrics\\n  </title>\\n  <link href=\"https://maxcdn.bootstrapcdn.com/bootstrap/3.3.4/css/bootstrap.min.css\" rel=\"stylesheet\"/>\\n  <link href=\"//www.azlyrics.com/bsaz.css\" rel=\"stylesheet\"/>\\n  <!-- HTML5 shim and Respond.js for IE8 support of HTML5 elements and media queries -->\\n  <!--[if lt IE 9]>\\r\\n<script src=\"https://oss.maxcdn.com/html5shiv/3.7.2/html5shiv.min.js'"
      ]
     },
     "execution_count": 13,
     "metadata": {},
     "output_type": "execute_result"
    }
   ],
   "source": [
    "link = links[35]\n",
    "url_base = 'https://www.azlyrics.com/'\n",
    "url_ext = link.get('href')\n",
    "html_page = requests.get(url_base + url_ext)\n",
    "soup = BeautifulSoup(html_page.content, 'html.parser')\n",
    "soup.prettify()[:1000]"
   ]
  },
  {
   "cell_type": "code",
   "execution_count": 11,
   "metadata": {},
   "outputs": [
    {
     "data": {
      "text/plain": [
       "'/l/lilyallen.html#55106'"
      ]
     },
     "execution_count": 11,
     "metadata": {},
     "output_type": "execute_result"
    }
   ],
   "source": [
    "link.get('href')"
   ]
  },
  {
   "cell_type": "markdown",
   "metadata": {},
   "source": [
    "### Parsing the DOM"
   ]
  },
  {
   "cell_type": "markdown",
   "metadata": {},
   "source": [
    "### Cleaning Elements"
   ]
  },
  {
   "cell_type": "markdown",
   "metadata": {},
   "source": [
    "### Storing Elements"
   ]
  },
  {
   "cell_type": "markdown",
   "metadata": {},
   "source": [
    "### Visualizing Results"
   ]
  },
  {
   "cell_type": "markdown",
   "metadata": {},
   "source": [
    "Beautiful Soup is a Python library designed for quick turnaround projects like screen-scraping. Three features make it powerful:\n",
    "\n",
    "* Beautiful Soup provides a few simple methods and Pythonic idioms for navigating, searching, and modifying a parse tree: a toolkit for dissecting a document and extracting what you need. It doesn't take much code to write an application\n",
    "\n",
    "* Beautiful Soup automatically converts incoming documents to Unicode and outgoing documents to UTF-8. You don't have to think about encodings, unless the document doesn't specify an encoding and Beautiful Soup can't detect one. Then you just have to specify the original encoding.\n",
    "\n",
    "* Beautiful Soup sits on top of popular Python parsers like lxml and html5lib, allowing you to try out different parsing strategies or trade speed for flexibility.\n",
    "\n",
    "Beautiful Soup parses anything you give it, and does the tree traversal stuff for you. You can tell it \"Find all the links\", or \"Find all the links of class externalLink\", or \"Find all the links whose urls match \"foo.com\", or \"Find the table heading that's got bold text, then give me that text.\""
   ]
  },
  {
   "cell_type": "markdown",
   "metadata": {},
   "source": [
    "### Selenium"
   ]
  },
  {
   "cell_type": "markdown",
   "metadata": {},
   "source": [
    "### Importing Selenium and Setting the driver"
   ]
  },
  {
   "cell_type": "code",
   "execution_count": 4,
   "metadata": {},
   "outputs": [],
   "source": [
    "from selenium import webdriver\n",
    "from selenium.webdriver.common.keys import Keys"
   ]
  },
  {
   "cell_type": "markdown",
   "metadata": {},
   "source": [
    "### Download Chromedriver\n",
    "https://sites.google.com/a/chromium.org/chromedriver/home"
   ]
  },
  {
   "cell_type": "code",
   "execution_count": 11,
   "metadata": {},
   "outputs": [
    {
     "name": "stdout",
     "output_type": "stream",
     "text": [
      "/Users/matthew.mitchell/Documents/Tools\n"
     ]
    }
   ],
   "source": [
    "cd /Users/matthew.mitchell/Documents/Tools/"
   ]
  },
  {
   "cell_type": "code",
   "execution_count": 15,
   "metadata": {},
   "outputs": [
    {
     "ename": "NotADirectoryError",
     "evalue": "[Errno 20] Not a directory: '/Users/matthew.mitchell/Documents/Tools/Scraping/geckodriver/'",
     "output_type": "error",
     "traceback": [
      "\u001b[0;31m---------------------------------------------------------------------------\u001b[0m",
      "\u001b[0;31mNotADirectoryError\u001b[0m                        Traceback (most recent call last)",
      "\u001b[0;32m<ipython-input-15-07a1575a2f89>\u001b[0m in \u001b[0;36m<module>\u001b[0;34m()\u001b[0m\n\u001b[0;32m----> 1\u001b[0;31m \u001b[0mdriver\u001b[0m \u001b[0;34m=\u001b[0m \u001b[0mwebdriver\u001b[0m\u001b[0;34m.\u001b[0m\u001b[0mFirefox\u001b[0m\u001b[0;34m(\u001b[0m\u001b[0;34m'/Users/matthew.mitchell/Documents/Tools/Scraping/geckodriver/'\u001b[0m\u001b[0;34m)\u001b[0m\u001b[0;34m\u001b[0m\u001b[0m\n\u001b[0m\u001b[1;32m      2\u001b[0m \u001b[0mdriver\u001b[0m\u001b[0;34m.\u001b[0m\u001b[0mget\u001b[0m\u001b[0;34m(\u001b[0m\u001b[0;34m\"http://www.gmail.com\"\u001b[0m\u001b[0;34m)\u001b[0m\u001b[0;34m\u001b[0m\u001b[0m\n",
      "\u001b[0;32m~/anaconda3/lib/python3.6/site-packages/selenium/webdriver/firefox/webdriver.py\u001b[0m in \u001b[0;36m__init__\u001b[0;34m(self, firefox_profile, firefox_binary, timeout, capabilities, proxy, executable_path, options, log_path, firefox_options, service_args, desired_capabilities)\u001b[0m\n\u001b[1;32m    145\u001b[0m         \u001b[0;32mif\u001b[0m \u001b[0mfirefox_profile\u001b[0m \u001b[0;32mis\u001b[0m \u001b[0;32mnot\u001b[0m \u001b[0;32mNone\u001b[0m\u001b[0;34m:\u001b[0m\u001b[0;34m\u001b[0m\u001b[0m\n\u001b[1;32m    146\u001b[0m             \u001b[0;32mif\u001b[0m \u001b[0misinstance\u001b[0m\u001b[0;34m(\u001b[0m\u001b[0mfirefox_profile\u001b[0m\u001b[0;34m,\u001b[0m \u001b[0mbasestring\u001b[0m\u001b[0;34m)\u001b[0m\u001b[0;34m:\u001b[0m\u001b[0;34m\u001b[0m\u001b[0m\n\u001b[0;32m--> 147\u001b[0;31m                 \u001b[0mfirefox_profile\u001b[0m \u001b[0;34m=\u001b[0m \u001b[0mFirefoxProfile\u001b[0m\u001b[0;34m(\u001b[0m\u001b[0mfirefox_profile\u001b[0m\u001b[0;34m)\u001b[0m\u001b[0;34m\u001b[0m\u001b[0m\n\u001b[0m\u001b[1;32m    148\u001b[0m             \u001b[0mself\u001b[0m\u001b[0;34m.\u001b[0m\u001b[0mprofile\u001b[0m \u001b[0;34m=\u001b[0m \u001b[0mfirefox_profile\u001b[0m\u001b[0;34m\u001b[0m\u001b[0m\n\u001b[1;32m    149\u001b[0m             \u001b[0moptions\u001b[0m\u001b[0;34m.\u001b[0m\u001b[0mprofile\u001b[0m \u001b[0;34m=\u001b[0m \u001b[0mfirefox_profile\u001b[0m\u001b[0;34m\u001b[0m\u001b[0m\n",
      "\u001b[0;32m~/anaconda3/lib/python3.6/site-packages/selenium/webdriver/firefox/firefox_profile.py\u001b[0m in \u001b[0;36m__init__\u001b[0;34m(self, profile_directory)\u001b[0m\n\u001b[1;32m     76\u001b[0m             \u001b[0mnewprof\u001b[0m \u001b[0;34m=\u001b[0m \u001b[0mos\u001b[0m\u001b[0;34m.\u001b[0m\u001b[0mpath\u001b[0m\u001b[0;34m.\u001b[0m\u001b[0mjoin\u001b[0m\u001b[0;34m(\u001b[0m\u001b[0mself\u001b[0m\u001b[0;34m.\u001b[0m\u001b[0mtempfolder\u001b[0m\u001b[0;34m,\u001b[0m \u001b[0;34m\"webdriver-py-profilecopy\"\u001b[0m\u001b[0;34m)\u001b[0m\u001b[0;34m\u001b[0m\u001b[0m\n\u001b[1;32m     77\u001b[0m             shutil.copytree(self.profile_dir, newprof,\n\u001b[0;32m---> 78\u001b[0;31m                             ignore=shutil.ignore_patterns(\"parent.lock\", \"lock\", \".parentlock\"))\n\u001b[0m\u001b[1;32m     79\u001b[0m             \u001b[0mself\u001b[0m\u001b[0;34m.\u001b[0m\u001b[0mprofile_dir\u001b[0m \u001b[0;34m=\u001b[0m \u001b[0mnewprof\u001b[0m\u001b[0;34m\u001b[0m\u001b[0m\n\u001b[1;32m     80\u001b[0m             \u001b[0mos\u001b[0m\u001b[0;34m.\u001b[0m\u001b[0mchmod\u001b[0m\u001b[0;34m(\u001b[0m\u001b[0mself\u001b[0m\u001b[0;34m.\u001b[0m\u001b[0mprofile_dir\u001b[0m\u001b[0;34m,\u001b[0m \u001b[0;36m0o755\u001b[0m\u001b[0;34m)\u001b[0m\u001b[0;34m\u001b[0m\u001b[0m\n",
      "\u001b[0;32m~/anaconda3/lib/python3.6/shutil.py\u001b[0m in \u001b[0;36mcopytree\u001b[0;34m(src, dst, symlinks, ignore, copy_function, ignore_dangling_symlinks)\u001b[0m\n\u001b[1;32m    307\u001b[0m \u001b[0;34m\u001b[0m\u001b[0m\n\u001b[1;32m    308\u001b[0m     \"\"\"\n\u001b[0;32m--> 309\u001b[0;31m     \u001b[0mnames\u001b[0m \u001b[0;34m=\u001b[0m \u001b[0mos\u001b[0m\u001b[0;34m.\u001b[0m\u001b[0mlistdir\u001b[0m\u001b[0;34m(\u001b[0m\u001b[0msrc\u001b[0m\u001b[0;34m)\u001b[0m\u001b[0;34m\u001b[0m\u001b[0m\n\u001b[0m\u001b[1;32m    310\u001b[0m     \u001b[0;32mif\u001b[0m \u001b[0mignore\u001b[0m \u001b[0;32mis\u001b[0m \u001b[0;32mnot\u001b[0m \u001b[0;32mNone\u001b[0m\u001b[0;34m:\u001b[0m\u001b[0;34m\u001b[0m\u001b[0m\n\u001b[1;32m    311\u001b[0m         \u001b[0mignored_names\u001b[0m \u001b[0;34m=\u001b[0m \u001b[0mignore\u001b[0m\u001b[0;34m(\u001b[0m\u001b[0msrc\u001b[0m\u001b[0;34m,\u001b[0m \u001b[0mnames\u001b[0m\u001b[0;34m)\u001b[0m\u001b[0;34m\u001b[0m\u001b[0m\n",
      "\u001b[0;31mNotADirectoryError\u001b[0m: [Errno 20] Not a directory: '/Users/matthew.mitchell/Documents/Tools/Scraping/geckodriver/'"
     ]
    }
   ],
   "source": [
    "driver = webdriver.Firefox('/Users/matthew.mitchell/Documents/Tools/Scraping/geckodriver/')\n",
    "driver.get(\"http://www.gmail.com\")"
   ]
  },
  {
   "cell_type": "markdown",
   "metadata": {},
   "source": [
    "### Inspecting the Web Page for Relevant Elements"
   ]
  },
  {
   "cell_type": "markdown",
   "metadata": {},
   "source": [
    "Right click (option click on mac) on an element you want to robotically interact with and go to inspect.\n",
    "![](./inspect.png)"
   ]
  },
  {
   "cell_type": "markdown",
   "metadata": {},
   "source": [
    "You should see the following pane open up displaying the underlying DOM.\n",
    "\n",
    "\n",
    "![](./inspect2.png)"
   ]
  },
  {
   "cell_type": "markdown",
   "metadata": {},
   "source": [
    "### Table of Top Commands/Methods"
   ]
  },
  {
   "cell_type": "markdown",
   "metadata": {},
   "source": [
    "http://akul.me/blog/2016/selenium-cheatsheet/"
   ]
  },
  {
   "cell_type": "markdown",
   "metadata": {},
   "source": [
    "### Scrolling + Javascript Snippets"
   ]
  },
  {
   "cell_type": "markdown",
   "metadata": {},
   "source": [
    "### Summary\n",
    "You should now have a brief intro to web scraping! The possabilities are nearly endless with what you can do. That said, not all websites will be thrilled with your new prowess. Surfing the web at super human speeds will get you banned from many domains and may violate the terms & conditions of many websites that require login. As such, there are a few considerations you should take along your way.\n",
    "\n",
    "* Is there a terms and conditions for using the website?\n",
    "* Test your scraping bot on in small samples to debug before scaling to hundreds, thousands or millions of requests.\n",
    "* Start thinking about your IP address: getting blacklisted from a website is no fun. Consider using a VPN.\n",
    "* Slow your bot down! Add delays along the way with the time package. Specifically, time.sleep(seconds) adds wait time in a program."
   ]
  },
  {
   "cell_type": "markdown",
   "metadata": {},
   "source": [
    "# Resources"
   ]
  },
  {
   "cell_type": "markdown",
   "metadata": {},
   "source": [
    "#### Beatiful Soup - a good go to tool for parsing the DOM\n",
    "https://www.crummy.com/software/BeautifulSoup/?\n",
    "\n",
    "#### Selenium - Browser automation (useful when you need to interact with javascript for more complex scraping)\n",
    "https://www.seleniumhq.org/\n",
    "\n",
    "#### Scrapy - another package for scraping larger datasets at scale\n",
    "https://scrapy.org/"
   ]
  },
  {
   "cell_type": "code",
   "execution_count": null,
   "metadata": {},
   "outputs": [],
   "source": []
  }
 ],
 "metadata": {
  "kernelspec": {
   "display_name": "Python 3",
   "language": "python",
   "name": "python3"
  },
  "language_info": {
   "codemirror_mode": {
    "name": "ipython",
    "version": 3
   },
   "file_extension": ".py",
   "mimetype": "text/x-python",
   "name": "python",
   "nbconvert_exporter": "python",
   "pygments_lexer": "ipython3",
   "version": "3.6.5"
  }
 },
 "nbformat": 4,
 "nbformat_minor": 2
}
